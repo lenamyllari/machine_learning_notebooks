{
 "cells": [
  {
   "cell_type": "markdown",
   "metadata": {},
   "source": [
    "## Elena Mylläri\n",
    "\n",
    "# Assigment: Logistic regression\n",
    "\n",
    "The purpose of this project is to make a diagnostic tool (not for real medical use) that asks a medical expert six\n",
    "numerical quantities obtained by radiographic measurements of a patients to make a linear regression model for predicting the quality of red wine based on it's physicochemical properties."
   ]
  },
  {
   "cell_type": "markdown",
   "metadata": {},
   "source": [
    "### Needed imports"
   ]
  },
  {
   "cell_type": "code",
   "execution_count": 131,
   "metadata": {},
   "outputs": [],
   "source": [
    "import pandas as pd\n",
    "import numpy as np\n",
    "from sklearn.linear_model import LogisticRegression\n",
    "from sklearn.metrics import confusion_matrix\n",
    "from sklearn.metrics import classification_report"
   ]
  },
  {
   "cell_type": "markdown",
   "metadata": {},
   "source": [
    "### The dataset\n",
    "Biomedical [data set](http://archive.ics.uci.edu/ml/datasets/Vertebral+Column#) built by Dr. Henrique da Mota. Each patient is represented in the data set by six biomechanical attributes derived from the shape and orientation of the pelvis and lumbar spine (in this order): pelvic incidence, pelvic tilt, lumbar lordosis angle, sacral slope, pelvic radius and grade of spondylolisthesis. The following convention is used for the class labels: Normal (NO) and Abnormal (AB)."
   ]
  },
  {
   "cell_type": "code",
   "execution_count": 196,
   "metadata": {},
   "outputs": [
    {
     "data": {
      "text/html": [
       "<div>\n",
       "<style scoped>\n",
       "    .dataframe tbody tr th:only-of-type {\n",
       "        vertical-align: middle;\n",
       "    }\n",
       "\n",
       "    .dataframe tbody tr th {\n",
       "        vertical-align: top;\n",
       "    }\n",
       "\n",
       "    .dataframe thead th {\n",
       "        text-align: right;\n",
       "    }\n",
       "</style>\n",
       "<table border=\"1\" class=\"dataframe\">\n",
       "  <thead>\n",
       "    <tr style=\"text-align: right;\">\n",
       "      <th></th>\n",
       "      <th>pelvic incidence</th>\n",
       "      <th>pelvic tilt</th>\n",
       "      <th>lumbar lordosis angle</th>\n",
       "      <th>sacral slope</th>\n",
       "      <th>pelvic radius</th>\n",
       "      <th>grade of spondylolisthesis</th>\n",
       "      <th>vertebral abnormality</th>\n",
       "    </tr>\n",
       "  </thead>\n",
       "  <tbody>\n",
       "    <tr>\n",
       "      <th>0</th>\n",
       "      <td>63.03</td>\n",
       "      <td>22.55</td>\n",
       "      <td>39.61</td>\n",
       "      <td>40.48</td>\n",
       "      <td>98.67</td>\n",
       "      <td>-0.25</td>\n",
       "      <td>AB</td>\n",
       "    </tr>\n",
       "    <tr>\n",
       "      <th>1</th>\n",
       "      <td>39.06</td>\n",
       "      <td>10.06</td>\n",
       "      <td>25.02</td>\n",
       "      <td>29.00</td>\n",
       "      <td>114.41</td>\n",
       "      <td>4.56</td>\n",
       "      <td>AB</td>\n",
       "    </tr>\n",
       "    <tr>\n",
       "      <th>2</th>\n",
       "      <td>68.83</td>\n",
       "      <td>22.22</td>\n",
       "      <td>50.09</td>\n",
       "      <td>46.61</td>\n",
       "      <td>105.99</td>\n",
       "      <td>-3.53</td>\n",
       "      <td>AB</td>\n",
       "    </tr>\n",
       "    <tr>\n",
       "      <th>3</th>\n",
       "      <td>69.30</td>\n",
       "      <td>24.65</td>\n",
       "      <td>44.31</td>\n",
       "      <td>44.64</td>\n",
       "      <td>101.87</td>\n",
       "      <td>11.21</td>\n",
       "      <td>AB</td>\n",
       "    </tr>\n",
       "    <tr>\n",
       "      <th>4</th>\n",
       "      <td>49.71</td>\n",
       "      <td>9.65</td>\n",
       "      <td>28.32</td>\n",
       "      <td>40.06</td>\n",
       "      <td>108.17</td>\n",
       "      <td>7.92</td>\n",
       "      <td>AB</td>\n",
       "    </tr>\n",
       "  </tbody>\n",
       "</table>\n",
       "</div>"
      ],
      "text/plain": [
       "   pelvic incidence  pelvic tilt  lumbar lordosis angle  sacral slope  \\\n",
       "0             63.03        22.55                  39.61         40.48   \n",
       "1             39.06        10.06                  25.02         29.00   \n",
       "2             68.83        22.22                  50.09         46.61   \n",
       "3             69.30        24.65                  44.31         44.64   \n",
       "4             49.71         9.65                  28.32         40.06   \n",
       "\n",
       "   pelvic radius  grade of spondylolisthesis vertebral abnormality  \n",
       "0          98.67                       -0.25                    AB  \n",
       "1         114.41                        4.56                    AB  \n",
       "2         105.99                       -3.53                    AB  \n",
       "3         101.87                       11.21                    AB  \n",
       "4         108.17                        7.92                    AB  "
      ]
     },
     "execution_count": 196,
     "metadata": {},
     "output_type": "execute_result"
    }
   ],
   "source": [
    "df = pd.read_csv('C:\\\\Users\\\\Lena\\\\Downloads\\\\vertebral_column_data\\\\column_2C.dat', \n",
    "                 sep=\"\\s+\", \n",
    "                 names=['pelvic incidence', 'pelvic tilt', \n",
    "                        'lumbar lordosis angle','sacral slope', \n",
    "                        'pelvic radius', 'grade of spondylolisthesis', \n",
    "                        'vertebral abnormality'])\n",
    "df.head(5)"
   ]
  },
  {
   "cell_type": "markdown",
   "metadata": {},
   "source": [
    "Check if there are values missing"
   ]
  },
  {
   "cell_type": "code",
   "execution_count": 197,
   "metadata": {},
   "outputs": [
    {
     "data": {
      "text/plain": [
       "pelvic incidence              0\n",
       "pelvic tilt                   0\n",
       "lumbar lordosis angle         0\n",
       "sacral slope                  0\n",
       "pelvic radius                 0\n",
       "grade of spondylolisthesis    0\n",
       "vertebral abnormality         0\n",
       "dtype: int64"
      ]
     },
     "execution_count": 197,
     "metadata": {},
     "output_type": "execute_result"
    }
   ],
   "source": [
    "df.isna().sum()"
   ]
  },
  {
   "cell_type": "markdown",
   "metadata": {},
   "source": [
    "Get the statistics"
   ]
  },
  {
   "cell_type": "code",
   "execution_count": 198,
   "metadata": {},
   "outputs": [
    {
     "data": {
      "text/html": [
       "<div>\n",
       "<style scoped>\n",
       "    .dataframe tbody tr th:only-of-type {\n",
       "        vertical-align: middle;\n",
       "    }\n",
       "\n",
       "    .dataframe tbody tr th {\n",
       "        vertical-align: top;\n",
       "    }\n",
       "\n",
       "    .dataframe thead th {\n",
       "        text-align: right;\n",
       "    }\n",
       "</style>\n",
       "<table border=\"1\" class=\"dataframe\">\n",
       "  <thead>\n",
       "    <tr style=\"text-align: right;\">\n",
       "      <th></th>\n",
       "      <th>count</th>\n",
       "      <th>mean</th>\n",
       "      <th>std</th>\n",
       "      <th>min</th>\n",
       "      <th>25%</th>\n",
       "      <th>50%</th>\n",
       "      <th>75%</th>\n",
       "      <th>max</th>\n",
       "    </tr>\n",
       "  </thead>\n",
       "  <tbody>\n",
       "    <tr>\n",
       "      <th>pelvic incidence</th>\n",
       "      <td>310.0</td>\n",
       "      <td>60.496484</td>\n",
       "      <td>17.236109</td>\n",
       "      <td>26.15</td>\n",
       "      <td>46.4325</td>\n",
       "      <td>58.690</td>\n",
       "      <td>72.8800</td>\n",
       "      <td>129.83</td>\n",
       "    </tr>\n",
       "    <tr>\n",
       "      <th>pelvic tilt</th>\n",
       "      <td>310.0</td>\n",
       "      <td>17.542903</td>\n",
       "      <td>10.008140</td>\n",
       "      <td>-6.55</td>\n",
       "      <td>10.6675</td>\n",
       "      <td>16.360</td>\n",
       "      <td>22.1200</td>\n",
       "      <td>49.43</td>\n",
       "    </tr>\n",
       "    <tr>\n",
       "      <th>lumbar lordosis angle</th>\n",
       "      <td>310.0</td>\n",
       "      <td>51.930710</td>\n",
       "      <td>18.553766</td>\n",
       "      <td>14.00</td>\n",
       "      <td>37.0000</td>\n",
       "      <td>49.565</td>\n",
       "      <td>63.0000</td>\n",
       "      <td>125.74</td>\n",
       "    </tr>\n",
       "    <tr>\n",
       "      <th>sacral slope</th>\n",
       "      <td>310.0</td>\n",
       "      <td>42.953871</td>\n",
       "      <td>13.422748</td>\n",
       "      <td>13.37</td>\n",
       "      <td>33.3475</td>\n",
       "      <td>42.405</td>\n",
       "      <td>52.6925</td>\n",
       "      <td>121.43</td>\n",
       "    </tr>\n",
       "    <tr>\n",
       "      <th>pelvic radius</th>\n",
       "      <td>310.0</td>\n",
       "      <td>117.920548</td>\n",
       "      <td>13.317629</td>\n",
       "      <td>70.08</td>\n",
       "      <td>110.7100</td>\n",
       "      <td>118.265</td>\n",
       "      <td>125.4675</td>\n",
       "      <td>163.07</td>\n",
       "    </tr>\n",
       "    <tr>\n",
       "      <th>grade of spondylolisthesis</th>\n",
       "      <td>310.0</td>\n",
       "      <td>26.296742</td>\n",
       "      <td>37.558883</td>\n",
       "      <td>-11.06</td>\n",
       "      <td>1.6000</td>\n",
       "      <td>11.765</td>\n",
       "      <td>41.2850</td>\n",
       "      <td>418.54</td>\n",
       "    </tr>\n",
       "  </tbody>\n",
       "</table>\n",
       "</div>"
      ],
      "text/plain": [
       "                            count        mean        std    min       25%  \\\n",
       "pelvic incidence            310.0   60.496484  17.236109  26.15   46.4325   \n",
       "pelvic tilt                 310.0   17.542903  10.008140  -6.55   10.6675   \n",
       "lumbar lordosis angle       310.0   51.930710  18.553766  14.00   37.0000   \n",
       "sacral slope                310.0   42.953871  13.422748  13.37   33.3475   \n",
       "pelvic radius               310.0  117.920548  13.317629  70.08  110.7100   \n",
       "grade of spondylolisthesis  310.0   26.296742  37.558883 -11.06    1.6000   \n",
       "\n",
       "                                50%       75%     max  \n",
       "pelvic incidence             58.690   72.8800  129.83  \n",
       "pelvic tilt                  16.360   22.1200   49.43  \n",
       "lumbar lordosis angle        49.565   63.0000  125.74  \n",
       "sacral slope                 42.405   52.6925  121.43  \n",
       "pelvic radius               118.265  125.4675  163.07  \n",
       "grade of spondylolisthesis   11.765   41.2850  418.54  "
      ]
     },
     "execution_count": 198,
     "metadata": {},
     "output_type": "execute_result"
    }
   ],
   "source": [
    "df.describe().T"
   ]
  },
  {
   "cell_type": "code",
   "execution_count": 199,
   "metadata": {},
   "outputs": [
    {
     "data": {
      "text/plain": [
       "pelvic incidence              float64\n",
       "pelvic tilt                   float64\n",
       "lumbar lordosis angle         float64\n",
       "sacral slope                  float64\n",
       "pelvic radius                 float64\n",
       "grade of spondylolisthesis    float64\n",
       "vertebral abnormality          object\n",
       "dtype: object"
      ]
     },
     "execution_count": 199,
     "metadata": {},
     "output_type": "execute_result"
    }
   ],
   "source": [
    "df.dtypes"
   ]
  },
  {
   "cell_type": "markdown",
   "metadata": {},
   "source": [
    "### Data preprosessing"
   ]
  },
  {
   "cell_type": "markdown",
   "metadata": {},
   "source": [
    "Check the unique values of vertebral abnormality-attribute (should be AB and NO only) and the amount of each class"
   ]
  },
  {
   "cell_type": "code",
   "execution_count": 200,
   "metadata": {},
   "outputs": [
    {
     "name": "stdout",
     "output_type": "stream",
     "text": [
      "['AB' 'NO']\n",
      "[210 100]\n"
     ]
    }
   ],
   "source": [
    "values, counts = np.unique(df[\"vertebral abnormality\"], return_counts=True)\n",
    "print(values)\n",
    "print(counts)"
   ]
  },
  {
   "cell_type": "markdown",
   "metadata": {},
   "source": [
    "Re-encode vertebral abnormality column"
   ]
  },
  {
   "cell_type": "code",
   "execution_count": 201,
   "metadata": {},
   "outputs": [
    {
     "data": {
      "text/html": [
       "<div>\n",
       "<style scoped>\n",
       "    .dataframe tbody tr th:only-of-type {\n",
       "        vertical-align: middle;\n",
       "    }\n",
       "\n",
       "    .dataframe tbody tr th {\n",
       "        vertical-align: top;\n",
       "    }\n",
       "\n",
       "    .dataframe thead th {\n",
       "        text-align: right;\n",
       "    }\n",
       "</style>\n",
       "<table border=\"1\" class=\"dataframe\">\n",
       "  <thead>\n",
       "    <tr style=\"text-align: right;\">\n",
       "      <th></th>\n",
       "      <th>pelvic incidence</th>\n",
       "      <th>pelvic tilt</th>\n",
       "      <th>lumbar lordosis angle</th>\n",
       "      <th>sacral slope</th>\n",
       "      <th>pelvic radius</th>\n",
       "      <th>grade of spondylolisthesis</th>\n",
       "      <th>vertebral abnormality</th>\n",
       "    </tr>\n",
       "  </thead>\n",
       "  <tbody>\n",
       "    <tr>\n",
       "      <th>0</th>\n",
       "      <td>63.03</td>\n",
       "      <td>22.55</td>\n",
       "      <td>39.61</td>\n",
       "      <td>40.48</td>\n",
       "      <td>98.67</td>\n",
       "      <td>-0.25</td>\n",
       "      <td>1</td>\n",
       "    </tr>\n",
       "    <tr>\n",
       "      <th>1</th>\n",
       "      <td>39.06</td>\n",
       "      <td>10.06</td>\n",
       "      <td>25.02</td>\n",
       "      <td>29.00</td>\n",
       "      <td>114.41</td>\n",
       "      <td>4.56</td>\n",
       "      <td>1</td>\n",
       "    </tr>\n",
       "    <tr>\n",
       "      <th>2</th>\n",
       "      <td>68.83</td>\n",
       "      <td>22.22</td>\n",
       "      <td>50.09</td>\n",
       "      <td>46.61</td>\n",
       "      <td>105.99</td>\n",
       "      <td>-3.53</td>\n",
       "      <td>1</td>\n",
       "    </tr>\n",
       "    <tr>\n",
       "      <th>3</th>\n",
       "      <td>69.30</td>\n",
       "      <td>24.65</td>\n",
       "      <td>44.31</td>\n",
       "      <td>44.64</td>\n",
       "      <td>101.87</td>\n",
       "      <td>11.21</td>\n",
       "      <td>1</td>\n",
       "    </tr>\n",
       "    <tr>\n",
       "      <th>4</th>\n",
       "      <td>49.71</td>\n",
       "      <td>9.65</td>\n",
       "      <td>28.32</td>\n",
       "      <td>40.06</td>\n",
       "      <td>108.17</td>\n",
       "      <td>7.92</td>\n",
       "      <td>1</td>\n",
       "    </tr>\n",
       "  </tbody>\n",
       "</table>\n",
       "</div>"
      ],
      "text/plain": [
       "   pelvic incidence  pelvic tilt  lumbar lordosis angle  sacral slope  \\\n",
       "0             63.03        22.55                  39.61         40.48   \n",
       "1             39.06        10.06                  25.02         29.00   \n",
       "2             68.83        22.22                  50.09         46.61   \n",
       "3             69.30        24.65                  44.31         44.64   \n",
       "4             49.71         9.65                  28.32         40.06   \n",
       "\n",
       "   pelvic radius  grade of spondylolisthesis  vertebral abnormality  \n",
       "0          98.67                       -0.25                      1  \n",
       "1         114.41                        4.56                      1  \n",
       "2         105.99                       -3.53                      1  \n",
       "3         101.87                       11.21                      1  \n",
       "4         108.17                        7.92                      1  "
      ]
     },
     "execution_count": 201,
     "metadata": {},
     "output_type": "execute_result"
    }
   ],
   "source": [
    "df['vertebral abnormality'] = np.where(df['vertebral abnormality']=='AB', 1,0)\n",
    "df.head(5)"
   ]
  },
  {
   "cell_type": "code",
   "execution_count": 202,
   "metadata": {},
   "outputs": [
    {
     "data": {
      "text/html": [
       "<div>\n",
       "<style scoped>\n",
       "    .dataframe tbody tr th:only-of-type {\n",
       "        vertical-align: middle;\n",
       "    }\n",
       "\n",
       "    .dataframe tbody tr th {\n",
       "        vertical-align: top;\n",
       "    }\n",
       "\n",
       "    .dataframe thead th {\n",
       "        text-align: right;\n",
       "    }\n",
       "</style>\n",
       "<table border=\"1\" class=\"dataframe\">\n",
       "  <thead>\n",
       "    <tr style=\"text-align: right;\">\n",
       "      <th></th>\n",
       "      <th>pelvic incidence</th>\n",
       "      <th>pelvic tilt</th>\n",
       "      <th>lumbar lordosis angle</th>\n",
       "      <th>sacral slope</th>\n",
       "      <th>pelvic radius</th>\n",
       "      <th>grade of spondylolisthesis</th>\n",
       "      <th>vertebral abnormality</th>\n",
       "    </tr>\n",
       "  </thead>\n",
       "  <tbody>\n",
       "    <tr>\n",
       "      <th>305</th>\n",
       "      <td>47.90</td>\n",
       "      <td>13.62</td>\n",
       "      <td>36.00</td>\n",
       "      <td>34.29</td>\n",
       "      <td>117.45</td>\n",
       "      <td>-4.25</td>\n",
       "      <td>0</td>\n",
       "    </tr>\n",
       "    <tr>\n",
       "      <th>306</th>\n",
       "      <td>53.94</td>\n",
       "      <td>20.72</td>\n",
       "      <td>29.22</td>\n",
       "      <td>33.22</td>\n",
       "      <td>114.37</td>\n",
       "      <td>-0.42</td>\n",
       "      <td>0</td>\n",
       "    </tr>\n",
       "    <tr>\n",
       "      <th>307</th>\n",
       "      <td>61.45</td>\n",
       "      <td>22.69</td>\n",
       "      <td>46.17</td>\n",
       "      <td>38.75</td>\n",
       "      <td>125.67</td>\n",
       "      <td>-2.71</td>\n",
       "      <td>0</td>\n",
       "    </tr>\n",
       "    <tr>\n",
       "      <th>308</th>\n",
       "      <td>45.25</td>\n",
       "      <td>8.69</td>\n",
       "      <td>41.58</td>\n",
       "      <td>36.56</td>\n",
       "      <td>118.55</td>\n",
       "      <td>0.21</td>\n",
       "      <td>0</td>\n",
       "    </tr>\n",
       "    <tr>\n",
       "      <th>309</th>\n",
       "      <td>33.84</td>\n",
       "      <td>5.07</td>\n",
       "      <td>36.64</td>\n",
       "      <td>28.77</td>\n",
       "      <td>123.95</td>\n",
       "      <td>-0.20</td>\n",
       "      <td>0</td>\n",
       "    </tr>\n",
       "  </tbody>\n",
       "</table>\n",
       "</div>"
      ],
      "text/plain": [
       "     pelvic incidence  pelvic tilt  lumbar lordosis angle  sacral slope  \\\n",
       "305             47.90        13.62                  36.00         34.29   \n",
       "306             53.94        20.72                  29.22         33.22   \n",
       "307             61.45        22.69                  46.17         38.75   \n",
       "308             45.25         8.69                  41.58         36.56   \n",
       "309             33.84         5.07                  36.64         28.77   \n",
       "\n",
       "     pelvic radius  grade of spondylolisthesis  vertebral abnormality  \n",
       "305         117.45                       -4.25                      0  \n",
       "306         114.37                       -0.42                      0  \n",
       "307         125.67                       -2.71                      0  \n",
       "308         118.55                        0.21                      0  \n",
       "309         123.95                       -0.20                      0  "
      ]
     },
     "execution_count": 202,
     "metadata": {},
     "output_type": "execute_result"
    }
   ],
   "source": [
    "df.tail(5)"
   ]
  },
  {
   "cell_type": "markdown",
   "metadata": {},
   "source": [
    "It seems, that the data is organized: first there are only the rows with the class 1 and then rows with class 0. \n",
    "\n",
    "So we shuffle the data:"
   ]
  },
  {
   "cell_type": "code",
   "execution_count": 203,
   "metadata": {},
   "outputs": [
    {
     "data": {
      "text/html": [
       "<div>\n",
       "<style scoped>\n",
       "    .dataframe tbody tr th:only-of-type {\n",
       "        vertical-align: middle;\n",
       "    }\n",
       "\n",
       "    .dataframe tbody tr th {\n",
       "        vertical-align: top;\n",
       "    }\n",
       "\n",
       "    .dataframe thead th {\n",
       "        text-align: right;\n",
       "    }\n",
       "</style>\n",
       "<table border=\"1\" class=\"dataframe\">\n",
       "  <thead>\n",
       "    <tr style=\"text-align: right;\">\n",
       "      <th></th>\n",
       "      <th>pelvic incidence</th>\n",
       "      <th>pelvic tilt</th>\n",
       "      <th>lumbar lordosis angle</th>\n",
       "      <th>sacral slope</th>\n",
       "      <th>pelvic radius</th>\n",
       "      <th>grade of spondylolisthesis</th>\n",
       "      <th>vertebral abnormality</th>\n",
       "    </tr>\n",
       "  </thead>\n",
       "  <tbody>\n",
       "    <tr>\n",
       "      <th>0</th>\n",
       "      <td>77.69</td>\n",
       "      <td>21.38</td>\n",
       "      <td>64.43</td>\n",
       "      <td>56.31</td>\n",
       "      <td>114.82</td>\n",
       "      <td>26.93</td>\n",
       "      <td>1</td>\n",
       "    </tr>\n",
       "    <tr>\n",
       "      <th>1</th>\n",
       "      <td>57.04</td>\n",
       "      <td>0.35</td>\n",
       "      <td>49.20</td>\n",
       "      <td>56.69</td>\n",
       "      <td>103.05</td>\n",
       "      <td>52.17</td>\n",
       "      <td>1</td>\n",
       "    </tr>\n",
       "    <tr>\n",
       "      <th>2</th>\n",
       "      <td>43.44</td>\n",
       "      <td>10.10</td>\n",
       "      <td>36.03</td>\n",
       "      <td>33.34</td>\n",
       "      <td>137.44</td>\n",
       "      <td>-3.11</td>\n",
       "      <td>0</td>\n",
       "    </tr>\n",
       "    <tr>\n",
       "      <th>3</th>\n",
       "      <td>52.86</td>\n",
       "      <td>9.41</td>\n",
       "      <td>46.99</td>\n",
       "      <td>43.45</td>\n",
       "      <td>123.09</td>\n",
       "      <td>1.86</td>\n",
       "      <td>0</td>\n",
       "    </tr>\n",
       "    <tr>\n",
       "      <th>4</th>\n",
       "      <td>48.80</td>\n",
       "      <td>18.02</td>\n",
       "      <td>52.00</td>\n",
       "      <td>30.78</td>\n",
       "      <td>139.15</td>\n",
       "      <td>10.44</td>\n",
       "      <td>0</td>\n",
       "    </tr>\n",
       "    <tr>\n",
       "      <th>5</th>\n",
       "      <td>48.32</td>\n",
       "      <td>17.45</td>\n",
       "      <td>48.00</td>\n",
       "      <td>30.87</td>\n",
       "      <td>128.98</td>\n",
       "      <td>-0.91</td>\n",
       "      <td>0</td>\n",
       "    </tr>\n",
       "    <tr>\n",
       "      <th>6</th>\n",
       "      <td>72.08</td>\n",
       "      <td>18.95</td>\n",
       "      <td>51.00</td>\n",
       "      <td>53.13</td>\n",
       "      <td>114.21</td>\n",
       "      <td>1.01</td>\n",
       "      <td>1</td>\n",
       "    </tr>\n",
       "    <tr>\n",
       "      <th>7</th>\n",
       "      <td>115.92</td>\n",
       "      <td>37.52</td>\n",
       "      <td>76.80</td>\n",
       "      <td>78.41</td>\n",
       "      <td>104.70</td>\n",
       "      <td>81.20</td>\n",
       "      <td>1</td>\n",
       "    </tr>\n",
       "    <tr>\n",
       "      <th>8</th>\n",
       "      <td>82.41</td>\n",
       "      <td>29.28</td>\n",
       "      <td>77.05</td>\n",
       "      <td>53.13</td>\n",
       "      <td>117.04</td>\n",
       "      <td>62.77</td>\n",
       "      <td>1</td>\n",
       "    </tr>\n",
       "    <tr>\n",
       "      <th>9</th>\n",
       "      <td>63.90</td>\n",
       "      <td>13.71</td>\n",
       "      <td>62.12</td>\n",
       "      <td>50.19</td>\n",
       "      <td>114.13</td>\n",
       "      <td>41.42</td>\n",
       "      <td>1</td>\n",
       "    </tr>\n",
       "  </tbody>\n",
       "</table>\n",
       "</div>"
      ],
      "text/plain": [
       "   pelvic incidence  pelvic tilt  lumbar lordosis angle  sacral slope  \\\n",
       "0             77.69        21.38                  64.43         56.31   \n",
       "1             57.04         0.35                  49.20         56.69   \n",
       "2             43.44        10.10                  36.03         33.34   \n",
       "3             52.86         9.41                  46.99         43.45   \n",
       "4             48.80        18.02                  52.00         30.78   \n",
       "5             48.32        17.45                  48.00         30.87   \n",
       "6             72.08        18.95                  51.00         53.13   \n",
       "7            115.92        37.52                  76.80         78.41   \n",
       "8             82.41        29.28                  77.05         53.13   \n",
       "9             63.90        13.71                  62.12         50.19   \n",
       "\n",
       "   pelvic radius  grade of spondylolisthesis  vertebral abnormality  \n",
       "0         114.82                       26.93                      1  \n",
       "1         103.05                       52.17                      1  \n",
       "2         137.44                       -3.11                      0  \n",
       "3         123.09                        1.86                      0  \n",
       "4         139.15                       10.44                      0  \n",
       "5         128.98                       -0.91                      0  \n",
       "6         114.21                        1.01                      1  \n",
       "7         104.70                       81.20                      1  \n",
       "8         117.04                       62.77                      1  \n",
       "9         114.13                       41.42                      1  "
      ]
     },
     "execution_count": 203,
     "metadata": {},
     "output_type": "execute_result"
    }
   ],
   "source": [
    "df = df.sample(frac=1).reset_index(drop=True)\n",
    "df.head(10)"
   ]
  },
  {
   "cell_type": "markdown",
   "metadata": {},
   "source": [
    "Split into explanatory and response variables "
   ]
  },
  {
   "cell_type": "code",
   "execution_count": 204,
   "metadata": {},
   "outputs": [],
   "source": [
    "X = df.iloc[:,:6]\n",
    "Y = df.iloc[:,6]"
   ]
  },
  {
   "cell_type": "markdown",
   "metadata": {},
   "source": [
    "### The model"
   ]
  },
  {
   "cell_type": "markdown",
   "metadata": {},
   "source": [
    "Build and fit model"
   ]
  },
  {
   "cell_type": "code",
   "execution_count": 205,
   "metadata": {},
   "outputs": [
    {
     "name": "stdout",
     "output_type": "stream",
     "text": [
      "Coefficients:  [[-0.03205038  0.10757546 -0.01869301 -0.06459006 -0.10677264  0.16808262]]\n",
      "Intercept:  [15.15571755]\n"
     ]
    }
   ],
   "source": [
    "reg = LogisticRegression()\n",
    "reg.fit(X,Y)\n",
    "\n",
    "print(\"Coefficients: \",reg.coef_)\n",
    "print(\"Intercept: \", reg.intercept_)"
   ]
  },
  {
   "cell_type": "markdown",
   "metadata": {},
   "source": [
    "Compute predicted values from training set"
   ]
  },
  {
   "cell_type": "code",
   "execution_count": 206,
   "metadata": {},
   "outputs": [],
   "source": [
    "Y_pred = reg.predict(X)"
   ]
  },
  {
   "cell_type": "markdown",
   "metadata": {},
   "source": [
    "Display the confusion matrix"
   ]
  },
  {
   "cell_type": "code",
   "execution_count": 207,
   "metadata": {},
   "outputs": [
    {
     "name": "stdout",
     "output_type": "stream",
     "text": [
      "Confusion matrix:\n",
      " [[ 78  22]\n",
      " [ 22 188]]\n"
     ]
    }
   ],
   "source": [
    "cm = confusion_matrix(Y, Y_pred)\n",
    "print(\"Confusion matrix:\\n\",cm)"
   ]
  },
  {
   "cell_type": "markdown",
   "metadata": {},
   "source": [
    "Display the accuracy and the classification report"
   ]
  },
  {
   "cell_type": "code",
   "execution_count": 208,
   "metadata": {},
   "outputs": [
    {
     "name": "stdout",
     "output_type": "stream",
     "text": [
      "Accuracy calculated from the training set = 0.858\n",
      "              precision    recall  f1-score   support\n",
      "\n",
      "          no       0.78      0.78      0.78       100\n",
      "         yes       0.90      0.90      0.90       210\n",
      "\n",
      "    accuracy                           0.86       310\n",
      "   macro avg       0.84      0.84      0.84       310\n",
      "weighted avg       0.86      0.86      0.86       310\n",
      "\n"
     ]
    }
   ],
   "source": [
    "accuracy = (cm[0][0]+cm[1][1])/(cm[0][0]+cm[1][1]+cm[0][1]+cm[1][0])\n",
    "print(\"Accuracy calculated from the training set = %.3f\" % (accuracy))\n",
    "\n",
    "print(classification_report(Y, Y_pred, target_names=['no', 'yes']))"
   ]
  },
  {
   "cell_type": "markdown",
   "metadata": {},
   "source": [
    "### Diagnostic tool\n",
    "\n",
    "Function for data input"
   ]
  },
  {
   "cell_type": "code",
   "execution_count": 209,
   "metadata": {},
   "outputs": [],
   "source": [
    "def get_data():\n",
    "    pelvic_incidence = float(input(\"Give the patient's pelvic incidence: \"))\n",
    "    pelvic_tilt= float(input(\"Give the patient's pelvic tilt: \"))\n",
    "    lumbar_lordosis_angle= float(input(\"Give the patient's lumbar lordosis angle: \"))\n",
    "    sacral_slope = float(input(\"Give the patient's sacral slope: \"))\n",
    "    pelvic_radius= float(input(\"Give the patient's pelvic radius: \"))\n",
    "    grade_of_spondylolisthesis= float(input(\"Give the patient's \\\n",
    "                                            grade of spondylolisthesis: \"))\n",
    "\n",
    "    frame = {'pelvic incidence': pelvic_incidence, \n",
    "             'pelvic tilt':pelvic_tilt, \n",
    "             'lumbar lordosis angle': lumbar_lordosis_angle,\n",
    "             'sacral slope': sacral_slope, \n",
    "             'pelvic radius': pelvic_radius, \n",
    "             'grade of spondylolisthesis': grade_of_spondylolisthesis} \n",
    "    return pd.DataFrame(frame, index=[0]) "
   ]
  },
  {
   "cell_type": "markdown",
   "metadata": {},
   "source": [
    "Function for getting the prediction"
   ]
  },
  {
   "cell_type": "code",
   "execution_count": 210,
   "metadata": {},
   "outputs": [],
   "source": [
    "def predict(data):\n",
    "    vertebral_abnormality = reg.predict_proba(data)\n",
    "    return vertebral_abnormality"
   ]
  },
  {
   "cell_type": "markdown",
   "metadata": {},
   "source": [
    "Function for getting the result of the prediction in text form"
   ]
  },
  {
   "cell_type": "code",
   "execution_count": 211,
   "metadata": {},
   "outputs": [],
   "source": [
    "def get_result(prediction):\n",
    "    if prediction[0][1]> prediction[0][0]:\n",
    "        return \"The patient has a vertebral abnormality \\\n",
    "                with a propability of %3.f percent\" % (prediction[0][1]*100.0)\n",
    "    else:\n",
    "        return \"The patient doesn't have a vertebral abnormality \\\n",
    "                with a propability of %3.f percent\" % (prediction[0][0]*100.0)"
   ]
  },
  {
   "cell_type": "markdown",
   "metadata": {},
   "source": [
    "The interface for the diagnostic tool\n",
    "\n",
    "Two rows from the original data are used for the demonstration:"
   ]
  },
  {
   "cell_type": "code",
   "execution_count": 212,
   "metadata": {},
   "outputs": [
    {
     "data": {
      "text/html": [
       "<div>\n",
       "<style scoped>\n",
       "    .dataframe tbody tr th:only-of-type {\n",
       "        vertical-align: middle;\n",
       "    }\n",
       "\n",
       "    .dataframe tbody tr th {\n",
       "        vertical-align: top;\n",
       "    }\n",
       "\n",
       "    .dataframe thead th {\n",
       "        text-align: right;\n",
       "    }\n",
       "</style>\n",
       "<table border=\"1\" class=\"dataframe\">\n",
       "  <thead>\n",
       "    <tr style=\"text-align: right;\">\n",
       "      <th></th>\n",
       "      <th>pelvic incidence</th>\n",
       "      <th>pelvic tilt</th>\n",
       "      <th>lumbar lordosis angle</th>\n",
       "      <th>sacral slope</th>\n",
       "      <th>pelvic radius</th>\n",
       "      <th>grade of spondylolisthesis</th>\n",
       "      <th>vertebral abnormality</th>\n",
       "    </tr>\n",
       "  </thead>\n",
       "  <tbody>\n",
       "    <tr>\n",
       "      <th>1</th>\n",
       "      <td>57.04</td>\n",
       "      <td>0.35</td>\n",
       "      <td>49.20</td>\n",
       "      <td>56.69</td>\n",
       "      <td>103.05</td>\n",
       "      <td>52.17</td>\n",
       "      <td>1</td>\n",
       "    </tr>\n",
       "    <tr>\n",
       "      <th>2</th>\n",
       "      <td>43.44</td>\n",
       "      <td>10.10</td>\n",
       "      <td>36.03</td>\n",
       "      <td>33.34</td>\n",
       "      <td>137.44</td>\n",
       "      <td>-3.11</td>\n",
       "      <td>0</td>\n",
       "    </tr>\n",
       "  </tbody>\n",
       "</table>\n",
       "</div>"
      ],
      "text/plain": [
       "   pelvic incidence  pelvic tilt  lumbar lordosis angle  sacral slope  \\\n",
       "1             57.04         0.35                  49.20         56.69   \n",
       "2             43.44        10.10                  36.03         33.34   \n",
       "\n",
       "   pelvic radius  grade of spondylolisthesis  vertebral abnormality  \n",
       "1         103.05                       52.17                      1  \n",
       "2         137.44                       -3.11                      0  "
      ]
     },
     "execution_count": 212,
     "metadata": {},
     "output_type": "execute_result"
    }
   ],
   "source": [
    "df.iloc[1:3,:]"
   ]
  },
  {
   "cell_type": "code",
   "execution_count": null,
   "metadata": {},
   "outputs": [
    {
     "name": "stdout",
     "output_type": "stream",
     "text": [
      "Accuracy of this diagnostic tool         calculated from the training set = 0.858\n"
     ]
    },
    {
     "name": "stdin",
     "output_type": "stream",
     "text": [
      "Give the patient's pelvic incidence:  57.04\n",
      "Give the patient's pelvic tilt:  0.35\n",
      "Give the patient's lumbar lordosis angle:  49.20\n",
      "Give the patient's sacral slope:  56.69\n",
      "Give the patient's pelvic radius:  103.05\n",
      "Give the patient's grade of spondylolisthesis:  52.17\n"
     ]
    },
    {
     "name": "stdout",
     "output_type": "stream",
     "text": [
      "The patient has a vertebral abnormality with a propability of 100 percent\n"
     ]
    },
    {
     "name": "stdin",
     "output_type": "stream",
     "text": [
      "Do you want to get one prediction more? y/n y\n",
      "Give the patient's pelvic incidence:  43.44\n",
      "Give the patient's pelvic tilt:  10.10\n",
      "Give the patient's lumbar lordosis angle:  36.03\n",
      "Give the patient's sacral slope:  33.34\n",
      "Give the patient's pelvic radius:  137.44\n",
      "Give the patient's grade of spondylolisthesis:  -3.11\n"
     ]
    },
    {
     "name": "stdout",
     "output_type": "stream",
     "text": [
      "The patient doesn't have a vertebral abnormality with a propability of  96 percent\n"
     ]
    },
    {
     "name": "stdin",
     "output_type": "stream",
     "text": [
      "Do you want to get one prediction more? y/n y\n"
     ]
    }
   ],
   "source": [
    "print(\"Accuracy of this diagnostic tool \\\n",
    "        calculated from the training set = %.3f\" % (accuracy))\n",
    "\n",
    "predictMore = True\n",
    "while predictMore:\n",
    "    data = get_data()\n",
    "    prediction = predict(data)\n",
    "    print(get_result(prediction))\n",
    "    choice = input(\"Do you want to get one prediction more? y/n\")\n",
    "    if choice == \"y\":\n",
    "        predictMore = True\n",
    "    else:\n",
    "        predictMore = False"
   ]
  },
  {
   "cell_type": "markdown",
   "metadata": {},
   "source": [
    "### Conclusions\n",
    "\n",
    "The equation for predicting the patient having a vertebral abnormality built by the Linear Regression:\n",
    "\n",
    "> ab = 1/(1 + np.exp(0.03205038 * pelvic incidence - 0.10757546 * pelvic tilt + 0.01869301 * lumbar lordosis angle + 0.06459006 * sacral slope + 0.10677264 * pelvic radius - 0.16808262 * spondylolisthesis - 15.15571755))\n",
    "\n",
    "The accuracy of this diagnostic tool calculated from the training set is 0.858. The original dataset has only 310 rows of data and is imbalanced ( 210 vs 100 rows for each class). For a better accuracy of the model a bigger balanced dataset would be needed.\n"
   ]
  }
 ],
 "metadata": {
  "kernelspec": {
   "display_name": "Python 3",
   "language": "python",
   "name": "python3"
  },
  "language_info": {
   "codemirror_mode": {
    "name": "ipython",
    "version": 3
   },
   "file_extension": ".py",
   "mimetype": "text/x-python",
   "name": "python",
   "nbconvert_exporter": "python",
   "pygments_lexer": "ipython3",
   "version": "3.8.5"
  }
 },
 "nbformat": 4,
 "nbformat_minor": 4
}
