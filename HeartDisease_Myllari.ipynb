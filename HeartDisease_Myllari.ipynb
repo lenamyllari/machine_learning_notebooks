{
 "cells": [
  {
   "cell_type": "markdown",
   "metadata": {},
   "source": [
    "# Case 1. Heart Disease\n",
    "### Elena Mylläri\n",
    "07.02.2021<br>\n",
    "Neural Network for Health Technology Applications<br>\n",
    "Metropolia University of Applied Sciences\n",
    "\n",
    "## Predicting the heart disease"
   ]
  },
  {
   "cell_type": "markdown",
   "metadata": {},
   "source": [
    "The perpose of this project is to create and train a dense neural network to predict to classify the presence of heart disease based on 13 parameters. "
   ]
  },
  {
   "cell_type": "markdown",
   "metadata": {},
   "source": [
    "### Setup"
   ]
  },
  {
   "cell_type": "code",
   "execution_count": 326,
   "metadata": {},
   "outputs": [],
   "source": [
    "# Import libraries\n",
    "import pandas as pd\n",
    "import numpy as np\n",
    "import tensorflow as tf\n",
    "import matplotlib.pyplot as plt\n",
    "\n",
    "from tensorflow import keras\n",
    "from tensorflow.keras import Sequential\n",
    "from tensorflow.keras.layers import Dense\n",
    "from tensorflow.keras import layers\n",
    "from tensorflow.keras import losses\n",
    "from tensorflow.keras.layers.experimental import preprocessing\n",
    "from tensorflow.keras.utils import plot_model\n",
    "from tensorflow.keras.layers import Dropout\n"
   ]
  },
  {
   "cell_type": "markdown",
   "metadata": {},
   "source": [
    "### Dataset"
   ]
  },
  {
   "cell_type": "markdown",
   "metadata": {},
   "source": [
    "The model will use the processed [Clevelend dataset](https://archive.ics.uci.edu/ml/machine-learning-databases/heart-disease/).\n",
    "\n",
    "#### Attribute Information:\n",
    "\n",
    "* age\n",
    "> age in years\n",
    "* sex  \n",
    "> sex (1 = male; 0 = female)\n",
    "* cp   \n",
    "> chest pain type\n",
    "        * Value 1: typical angina\n",
    "        * Value 2: atypical angina\n",
    "        * Value 3: non-anginal pain\n",
    "        * Value 4: asymptomatic\n",
    "* trestbps\n",
    "> resting blood pressure (in mm Hg on admission to the hospital)\n",
    "* chol   \n",
    "> serum cholestoral in mg/dl\n",
    "* fbs    \n",
    "> fasting blood sugar > 120 mg/dl  \n",
    "        * 1 = true \n",
    "        * 0 = false\n",
    "* restecg\n",
    "> resting electrocardiographic results\n",
    "        * Value 0: normal\n",
    "        * Value 1: having ST-T wave abnormality (T wave inversions and/or ST \n",
    "                    elevation or depression of > 0.05 mV)\n",
    "        * Value 2: showing probable or definite left ventricular hypertrophy\n",
    "                    by Estes' criteria\n",
    "* thalach  \n",
    "> maximum heart rate achieved\n",
    "* exang    \n",
    "> exercise induced angina \n",
    "        * 1 = yes\n",
    "        * 0 = no\n",
    "* oldpeak \n",
    "> ST depression induced by exercise relative to rest\n",
    "* slope \n",
    "> the slope of the peak exercise ST segment\n",
    "       * Value 1: upsloping\n",
    "       * Value 2: flat\n",
    "       * Value 3: downsloping\n",
    "* ca  \n",
    "> number of major vessels (0-3) colored by flourosopy\n",
    "* thal      \n",
    "> 3 = normal; 6 = fixed defect; 7 = reversable defect\n",
    "* num       (the predicted attribute, \"diagnose\" in the  experiment)"
   ]
  },
  {
   "cell_type": "code",
   "execution_count": 282,
   "metadata": {},
   "outputs": [
    {
     "data": {
      "text/html": [
       "<div>\n",
       "<style scoped>\n",
       "    .dataframe tbody tr th:only-of-type {\n",
       "        vertical-align: middle;\n",
       "    }\n",
       "\n",
       "    .dataframe tbody tr th {\n",
       "        vertical-align: top;\n",
       "    }\n",
       "\n",
       "    .dataframe thead th {\n",
       "        text-align: right;\n",
       "    }\n",
       "</style>\n",
       "<table border=\"1\" class=\"dataframe\">\n",
       "  <thead>\n",
       "    <tr style=\"text-align: right;\">\n",
       "      <th></th>\n",
       "      <th>age</th>\n",
       "      <th>sex</th>\n",
       "      <th>cp</th>\n",
       "      <th>trestbps</th>\n",
       "      <th>chol</th>\n",
       "      <th>fbs</th>\n",
       "      <th>restecg</th>\n",
       "      <th>thalach</th>\n",
       "      <th>exang</th>\n",
       "      <th>oldpeak</th>\n",
       "      <th>slope</th>\n",
       "      <th>ca</th>\n",
       "      <th>thal</th>\n",
       "      <th>diagnose</th>\n",
       "    </tr>\n",
       "  </thead>\n",
       "  <tbody>\n",
       "    <tr>\n",
       "      <th>0</th>\n",
       "      <td>63.0</td>\n",
       "      <td>1.0</td>\n",
       "      <td>1.0</td>\n",
       "      <td>145.0</td>\n",
       "      <td>233.0</td>\n",
       "      <td>1.0</td>\n",
       "      <td>2.0</td>\n",
       "      <td>150.0</td>\n",
       "      <td>0.0</td>\n",
       "      <td>2.3</td>\n",
       "      <td>3.0</td>\n",
       "      <td>0.0</td>\n",
       "      <td>6.0</td>\n",
       "      <td>0</td>\n",
       "    </tr>\n",
       "    <tr>\n",
       "      <th>1</th>\n",
       "      <td>67.0</td>\n",
       "      <td>1.0</td>\n",
       "      <td>4.0</td>\n",
       "      <td>160.0</td>\n",
       "      <td>286.0</td>\n",
       "      <td>0.0</td>\n",
       "      <td>2.0</td>\n",
       "      <td>108.0</td>\n",
       "      <td>1.0</td>\n",
       "      <td>1.5</td>\n",
       "      <td>2.0</td>\n",
       "      <td>3.0</td>\n",
       "      <td>3.0</td>\n",
       "      <td>2</td>\n",
       "    </tr>\n",
       "    <tr>\n",
       "      <th>2</th>\n",
       "      <td>67.0</td>\n",
       "      <td>1.0</td>\n",
       "      <td>4.0</td>\n",
       "      <td>120.0</td>\n",
       "      <td>229.0</td>\n",
       "      <td>0.0</td>\n",
       "      <td>2.0</td>\n",
       "      <td>129.0</td>\n",
       "      <td>1.0</td>\n",
       "      <td>2.6</td>\n",
       "      <td>2.0</td>\n",
       "      <td>2.0</td>\n",
       "      <td>7.0</td>\n",
       "      <td>1</td>\n",
       "    </tr>\n",
       "    <tr>\n",
       "      <th>3</th>\n",
       "      <td>37.0</td>\n",
       "      <td>1.0</td>\n",
       "      <td>3.0</td>\n",
       "      <td>130.0</td>\n",
       "      <td>250.0</td>\n",
       "      <td>0.0</td>\n",
       "      <td>0.0</td>\n",
       "      <td>187.0</td>\n",
       "      <td>0.0</td>\n",
       "      <td>3.5</td>\n",
       "      <td>3.0</td>\n",
       "      <td>0.0</td>\n",
       "      <td>3.0</td>\n",
       "      <td>0</td>\n",
       "    </tr>\n",
       "    <tr>\n",
       "      <th>4</th>\n",
       "      <td>41.0</td>\n",
       "      <td>0.0</td>\n",
       "      <td>2.0</td>\n",
       "      <td>130.0</td>\n",
       "      <td>204.0</td>\n",
       "      <td>0.0</td>\n",
       "      <td>2.0</td>\n",
       "      <td>172.0</td>\n",
       "      <td>0.0</td>\n",
       "      <td>1.4</td>\n",
       "      <td>1.0</td>\n",
       "      <td>0.0</td>\n",
       "      <td>3.0</td>\n",
       "      <td>0</td>\n",
       "    </tr>\n",
       "    <tr>\n",
       "      <th>...</th>\n",
       "      <td>...</td>\n",
       "      <td>...</td>\n",
       "      <td>...</td>\n",
       "      <td>...</td>\n",
       "      <td>...</td>\n",
       "      <td>...</td>\n",
       "      <td>...</td>\n",
       "      <td>...</td>\n",
       "      <td>...</td>\n",
       "      <td>...</td>\n",
       "      <td>...</td>\n",
       "      <td>...</td>\n",
       "      <td>...</td>\n",
       "      <td>...</td>\n",
       "    </tr>\n",
       "    <tr>\n",
       "      <th>298</th>\n",
       "      <td>45.0</td>\n",
       "      <td>1.0</td>\n",
       "      <td>1.0</td>\n",
       "      <td>110.0</td>\n",
       "      <td>264.0</td>\n",
       "      <td>0.0</td>\n",
       "      <td>0.0</td>\n",
       "      <td>132.0</td>\n",
       "      <td>0.0</td>\n",
       "      <td>1.2</td>\n",
       "      <td>2.0</td>\n",
       "      <td>0.0</td>\n",
       "      <td>7.0</td>\n",
       "      <td>1</td>\n",
       "    </tr>\n",
       "    <tr>\n",
       "      <th>299</th>\n",
       "      <td>68.0</td>\n",
       "      <td>1.0</td>\n",
       "      <td>4.0</td>\n",
       "      <td>144.0</td>\n",
       "      <td>193.0</td>\n",
       "      <td>1.0</td>\n",
       "      <td>0.0</td>\n",
       "      <td>141.0</td>\n",
       "      <td>0.0</td>\n",
       "      <td>3.4</td>\n",
       "      <td>2.0</td>\n",
       "      <td>2.0</td>\n",
       "      <td>7.0</td>\n",
       "      <td>2</td>\n",
       "    </tr>\n",
       "    <tr>\n",
       "      <th>300</th>\n",
       "      <td>57.0</td>\n",
       "      <td>1.0</td>\n",
       "      <td>4.0</td>\n",
       "      <td>130.0</td>\n",
       "      <td>131.0</td>\n",
       "      <td>0.0</td>\n",
       "      <td>0.0</td>\n",
       "      <td>115.0</td>\n",
       "      <td>1.0</td>\n",
       "      <td>1.2</td>\n",
       "      <td>2.0</td>\n",
       "      <td>1.0</td>\n",
       "      <td>7.0</td>\n",
       "      <td>3</td>\n",
       "    </tr>\n",
       "    <tr>\n",
       "      <th>301</th>\n",
       "      <td>57.0</td>\n",
       "      <td>0.0</td>\n",
       "      <td>2.0</td>\n",
       "      <td>130.0</td>\n",
       "      <td>236.0</td>\n",
       "      <td>0.0</td>\n",
       "      <td>2.0</td>\n",
       "      <td>174.0</td>\n",
       "      <td>0.0</td>\n",
       "      <td>0.0</td>\n",
       "      <td>2.0</td>\n",
       "      <td>1.0</td>\n",
       "      <td>3.0</td>\n",
       "      <td>1</td>\n",
       "    </tr>\n",
       "    <tr>\n",
       "      <th>302</th>\n",
       "      <td>38.0</td>\n",
       "      <td>1.0</td>\n",
       "      <td>3.0</td>\n",
       "      <td>138.0</td>\n",
       "      <td>175.0</td>\n",
       "      <td>0.0</td>\n",
       "      <td>0.0</td>\n",
       "      <td>173.0</td>\n",
       "      <td>0.0</td>\n",
       "      <td>0.0</td>\n",
       "      <td>1.0</td>\n",
       "      <td>?</td>\n",
       "      <td>3.0</td>\n",
       "      <td>0</td>\n",
       "    </tr>\n",
       "  </tbody>\n",
       "</table>\n",
       "<p>303 rows × 14 columns</p>\n",
       "</div>"
      ],
      "text/plain": [
       "      age  sex   cp  trestbps   chol  fbs  restecg  thalach  exang  oldpeak  \\\n",
       "0    63.0  1.0  1.0     145.0  233.0  1.0      2.0    150.0    0.0      2.3   \n",
       "1    67.0  1.0  4.0     160.0  286.0  0.0      2.0    108.0    1.0      1.5   \n",
       "2    67.0  1.0  4.0     120.0  229.0  0.0      2.0    129.0    1.0      2.6   \n",
       "3    37.0  1.0  3.0     130.0  250.0  0.0      0.0    187.0    0.0      3.5   \n",
       "4    41.0  0.0  2.0     130.0  204.0  0.0      2.0    172.0    0.0      1.4   \n",
       "..    ...  ...  ...       ...    ...  ...      ...      ...    ...      ...   \n",
       "298  45.0  1.0  1.0     110.0  264.0  0.0      0.0    132.0    0.0      1.2   \n",
       "299  68.0  1.0  4.0     144.0  193.0  1.0      0.0    141.0    0.0      3.4   \n",
       "300  57.0  1.0  4.0     130.0  131.0  0.0      0.0    115.0    1.0      1.2   \n",
       "301  57.0  0.0  2.0     130.0  236.0  0.0      2.0    174.0    0.0      0.0   \n",
       "302  38.0  1.0  3.0     138.0  175.0  0.0      0.0    173.0    0.0      0.0   \n",
       "\n",
       "     slope   ca thal  diagnose  \n",
       "0      3.0  0.0  6.0         0  \n",
       "1      2.0  3.0  3.0         2  \n",
       "2      2.0  2.0  7.0         1  \n",
       "3      3.0  0.0  3.0         0  \n",
       "4      1.0  0.0  3.0         0  \n",
       "..     ...  ...  ...       ...  \n",
       "298    2.0  0.0  7.0         1  \n",
       "299    2.0  2.0  7.0         2  \n",
       "300    2.0  1.0  7.0         3  \n",
       "301    2.0  1.0  3.0         1  \n",
       "302    1.0    ?  3.0         0  \n",
       "\n",
       "[303 rows x 14 columns]"
      ]
     },
     "execution_count": 282,
     "metadata": {},
     "output_type": "execute_result"
    }
   ],
   "source": [
    "df = pd.read_csv(\"https://archive.ics.uci.edu/ml/machine-learning-databases/heart-disease/processed.cleveland.data\", sep = \",\",\n",
    "                 names=[\"age\", \"sex\",\"cp\",\"trestbps\",\"chol\",\"fbs\",\"restecg\", \"thalach\", \"exang\", \"oldpeak\", \"slope\", \n",
    "                        \"ca\", \"thal\", \"diagnose\"], header=None)\n",
    "df"
   ]
  },
  {
   "cell_type": "markdown",
   "metadata": {},
   "source": [
    "Check if there are values missing."
   ]
  },
  {
   "cell_type": "code",
   "execution_count": 283,
   "metadata": {},
   "outputs": [
    {
     "data": {
      "text/plain": [
       "age         0\n",
       "sex         0\n",
       "cp          0\n",
       "trestbps    0\n",
       "chol        0\n",
       "fbs         0\n",
       "restecg     0\n",
       "thalach     0\n",
       "exang       0\n",
       "oldpeak     0\n",
       "slope       0\n",
       "ca          0\n",
       "thal        0\n",
       "diagnose    0\n",
       "dtype: int64"
      ]
     },
     "execution_count": 283,
     "metadata": {},
     "output_type": "execute_result"
    }
   ],
   "source": [
    "df.isna().sum()"
   ]
  },
  {
   "cell_type": "markdown",
   "metadata": {},
   "source": [
    "Get the statistics"
   ]
  },
  {
   "cell_type": "code",
   "execution_count": 284,
   "metadata": {},
   "outputs": [
    {
     "data": {
      "text/html": [
       "<div>\n",
       "<style scoped>\n",
       "    .dataframe tbody tr th:only-of-type {\n",
       "        vertical-align: middle;\n",
       "    }\n",
       "\n",
       "    .dataframe tbody tr th {\n",
       "        vertical-align: top;\n",
       "    }\n",
       "\n",
       "    .dataframe thead th {\n",
       "        text-align: right;\n",
       "    }\n",
       "</style>\n",
       "<table border=\"1\" class=\"dataframe\">\n",
       "  <thead>\n",
       "    <tr style=\"text-align: right;\">\n",
       "      <th></th>\n",
       "      <th>count</th>\n",
       "      <th>mean</th>\n",
       "      <th>std</th>\n",
       "      <th>min</th>\n",
       "      <th>25%</th>\n",
       "      <th>50%</th>\n",
       "      <th>75%</th>\n",
       "      <th>max</th>\n",
       "    </tr>\n",
       "  </thead>\n",
       "  <tbody>\n",
       "    <tr>\n",
       "      <th>age</th>\n",
       "      <td>303.0</td>\n",
       "      <td>54.438944</td>\n",
       "      <td>9.038662</td>\n",
       "      <td>29.0</td>\n",
       "      <td>48.0</td>\n",
       "      <td>56.0</td>\n",
       "      <td>61.0</td>\n",
       "      <td>77.0</td>\n",
       "    </tr>\n",
       "    <tr>\n",
       "      <th>sex</th>\n",
       "      <td>303.0</td>\n",
       "      <td>0.679868</td>\n",
       "      <td>0.467299</td>\n",
       "      <td>0.0</td>\n",
       "      <td>0.0</td>\n",
       "      <td>1.0</td>\n",
       "      <td>1.0</td>\n",
       "      <td>1.0</td>\n",
       "    </tr>\n",
       "    <tr>\n",
       "      <th>cp</th>\n",
       "      <td>303.0</td>\n",
       "      <td>3.158416</td>\n",
       "      <td>0.960126</td>\n",
       "      <td>1.0</td>\n",
       "      <td>3.0</td>\n",
       "      <td>3.0</td>\n",
       "      <td>4.0</td>\n",
       "      <td>4.0</td>\n",
       "    </tr>\n",
       "    <tr>\n",
       "      <th>trestbps</th>\n",
       "      <td>303.0</td>\n",
       "      <td>131.689769</td>\n",
       "      <td>17.599748</td>\n",
       "      <td>94.0</td>\n",
       "      <td>120.0</td>\n",
       "      <td>130.0</td>\n",
       "      <td>140.0</td>\n",
       "      <td>200.0</td>\n",
       "    </tr>\n",
       "    <tr>\n",
       "      <th>chol</th>\n",
       "      <td>303.0</td>\n",
       "      <td>246.693069</td>\n",
       "      <td>51.776918</td>\n",
       "      <td>126.0</td>\n",
       "      <td>211.0</td>\n",
       "      <td>241.0</td>\n",
       "      <td>275.0</td>\n",
       "      <td>564.0</td>\n",
       "    </tr>\n",
       "    <tr>\n",
       "      <th>fbs</th>\n",
       "      <td>303.0</td>\n",
       "      <td>0.148515</td>\n",
       "      <td>0.356198</td>\n",
       "      <td>0.0</td>\n",
       "      <td>0.0</td>\n",
       "      <td>0.0</td>\n",
       "      <td>0.0</td>\n",
       "      <td>1.0</td>\n",
       "    </tr>\n",
       "    <tr>\n",
       "      <th>restecg</th>\n",
       "      <td>303.0</td>\n",
       "      <td>0.990099</td>\n",
       "      <td>0.994971</td>\n",
       "      <td>0.0</td>\n",
       "      <td>0.0</td>\n",
       "      <td>1.0</td>\n",
       "      <td>2.0</td>\n",
       "      <td>2.0</td>\n",
       "    </tr>\n",
       "    <tr>\n",
       "      <th>thalach</th>\n",
       "      <td>303.0</td>\n",
       "      <td>149.607261</td>\n",
       "      <td>22.875003</td>\n",
       "      <td>71.0</td>\n",
       "      <td>133.5</td>\n",
       "      <td>153.0</td>\n",
       "      <td>166.0</td>\n",
       "      <td>202.0</td>\n",
       "    </tr>\n",
       "    <tr>\n",
       "      <th>exang</th>\n",
       "      <td>303.0</td>\n",
       "      <td>0.326733</td>\n",
       "      <td>0.469794</td>\n",
       "      <td>0.0</td>\n",
       "      <td>0.0</td>\n",
       "      <td>0.0</td>\n",
       "      <td>1.0</td>\n",
       "      <td>1.0</td>\n",
       "    </tr>\n",
       "    <tr>\n",
       "      <th>oldpeak</th>\n",
       "      <td>303.0</td>\n",
       "      <td>1.039604</td>\n",
       "      <td>1.161075</td>\n",
       "      <td>0.0</td>\n",
       "      <td>0.0</td>\n",
       "      <td>0.8</td>\n",
       "      <td>1.6</td>\n",
       "      <td>6.2</td>\n",
       "    </tr>\n",
       "    <tr>\n",
       "      <th>slope</th>\n",
       "      <td>303.0</td>\n",
       "      <td>1.600660</td>\n",
       "      <td>0.616226</td>\n",
       "      <td>1.0</td>\n",
       "      <td>1.0</td>\n",
       "      <td>2.0</td>\n",
       "      <td>2.0</td>\n",
       "      <td>3.0</td>\n",
       "    </tr>\n",
       "    <tr>\n",
       "      <th>diagnose</th>\n",
       "      <td>303.0</td>\n",
       "      <td>0.937294</td>\n",
       "      <td>1.228536</td>\n",
       "      <td>0.0</td>\n",
       "      <td>0.0</td>\n",
       "      <td>0.0</td>\n",
       "      <td>2.0</td>\n",
       "      <td>4.0</td>\n",
       "    </tr>\n",
       "  </tbody>\n",
       "</table>\n",
       "</div>"
      ],
      "text/plain": [
       "          count        mean        std    min    25%    50%    75%    max\n",
       "age       303.0   54.438944   9.038662   29.0   48.0   56.0   61.0   77.0\n",
       "sex       303.0    0.679868   0.467299    0.0    0.0    1.0    1.0    1.0\n",
       "cp        303.0    3.158416   0.960126    1.0    3.0    3.0    4.0    4.0\n",
       "trestbps  303.0  131.689769  17.599748   94.0  120.0  130.0  140.0  200.0\n",
       "chol      303.0  246.693069  51.776918  126.0  211.0  241.0  275.0  564.0\n",
       "fbs       303.0    0.148515   0.356198    0.0    0.0    0.0    0.0    1.0\n",
       "restecg   303.0    0.990099   0.994971    0.0    0.0    1.0    2.0    2.0\n",
       "thalach   303.0  149.607261  22.875003   71.0  133.5  153.0  166.0  202.0\n",
       "exang     303.0    0.326733   0.469794    0.0    0.0    0.0    1.0    1.0\n",
       "oldpeak   303.0    1.039604   1.161075    0.0    0.0    0.8    1.6    6.2\n",
       "slope     303.0    1.600660   0.616226    1.0    1.0    2.0    2.0    3.0\n",
       "diagnose  303.0    0.937294   1.228536    0.0    0.0    0.0    2.0    4.0"
      ]
     },
     "execution_count": 284,
     "metadata": {},
     "output_type": "execute_result"
    }
   ],
   "source": [
    "df.describe().T"
   ]
  },
  {
   "cell_type": "markdown",
   "metadata": {},
   "source": [
    "### Preprocessing the data"
   ]
  },
  {
   "cell_type": "markdown",
   "metadata": {},
   "source": [
    "Unique values in diagnose column:"
   ]
  },
  {
   "cell_type": "code",
   "execution_count": 285,
   "metadata": {},
   "outputs": [
    {
     "data": {
      "text/plain": [
       "array([0, 2, 1, 3, 4], dtype=int64)"
      ]
     },
     "execution_count": 285,
     "metadata": {},
     "output_type": "execute_result"
    }
   ],
   "source": [
    "df.diagnose.unique()"
   ]
  },
  {
   "cell_type": "markdown",
   "metadata": {},
   "source": [
    "This is binary classification problem (sick/not sick), so there is a need to change the values of the Diagnoses column: 0 - not sich, >0 - sick."
   ]
  },
  {
   "cell_type": "code",
   "execution_count": 286,
   "metadata": {},
   "outputs": [
    {
     "data": {
      "text/plain": [
       "array([0, 1])"
      ]
     },
     "execution_count": 286,
     "metadata": {},
     "output_type": "execute_result"
    }
   ],
   "source": [
    "df.diagnose = 1*(df.diagnose > 0)\n",
    "df.diagnose.unique()"
   ]
  },
  {
   "cell_type": "markdown",
   "metadata": {},
   "source": [
    "Check if there are only the appropriate values in columns cp (1-4), restecg (0-2), slope (1-3), thal (3,6,7), ca(0-3)"
   ]
  },
  {
   "cell_type": "code",
   "execution_count": 287,
   "metadata": {},
   "outputs": [
    {
     "name": "stdout",
     "output_type": "stream",
     "text": [
      "4.0    144\n",
      "3.0     86\n",
      "2.0     50\n",
      "1.0     23\n",
      "Name: cp, dtype: int64\n",
      "0.0    151\n",
      "2.0    148\n",
      "1.0      4\n",
      "Name: restecg, dtype: int64\n",
      "1.0    142\n",
      "2.0    140\n",
      "3.0     21\n",
      "Name: slope, dtype: int64\n",
      "3.0    166\n",
      "7.0    117\n",
      "6.0     18\n",
      "?        2\n",
      "Name: thal, dtype: int64\n",
      "0.0    176\n",
      "1.0     65\n",
      "2.0     38\n",
      "3.0     20\n",
      "?        4\n",
      "Name: ca, dtype: int64\n"
     ]
    }
   ],
   "source": [
    "print(df.cp.value_counts())\n",
    "print(df.restecg.value_counts())\n",
    "print(df.slope.value_counts())\n",
    "print(df.thal.value_counts())\n",
    "print(df.ca.value_counts())\n"
   ]
  },
  {
   "cell_type": "markdown",
   "metadata": {},
   "source": [
    "In thal and ca column there are \"?\" values. Replace them with the median of the column values. <br>\n",
    "Option 1: find the indices of the \"?\" values and replace them:"
   ]
  },
  {
   "cell_type": "code",
   "execution_count": 288,
   "metadata": {},
   "outputs": [
    {
     "name": "stdout",
     "output_type": "stream",
     "text": [
      "?\n",
      "?\n"
     ]
    }
   ],
   "source": [
    "# returns -1 if not found\n",
    "questions= df[\"thal\"].str.find(\"?\") \n",
    "  \n",
    "#keep only the indeces where \"?\", so we need only the indices of the 0 values\n",
    "questions[questions!=-1]\n",
    "\n",
    "#check that indices are rigth\n",
    "print(df['thal'][87])\n",
    "print(df['thal'][266])"
   ]
  },
  {
   "cell_type": "markdown",
   "metadata": {},
   "source": [
    "From the unique value counts we can find the median value of thal column: 303:2 = 151.5, so it's value 3.0 (there are 166 of them)"
   ]
  },
  {
   "cell_type": "code",
   "execution_count": 292,
   "metadata": {},
   "outputs": [
    {
     "name": "stdout",
     "output_type": "stream",
     "text": [
      "3.0\n",
      "3.0\n"
     ]
    }
   ],
   "source": [
    "# change the \"?\" to the median value 3\n",
    "df.loc[87,'thal'] = '3.0'\n",
    "df.loc[266,'thal'] = '3.0'\n",
    "print(df['thal'][87])\n",
    "print(df['thal'][266])"
   ]
  },
  {
   "cell_type": "markdown",
   "metadata": {},
   "source": [
    "The median value of ca column: 303:2 = 151.5, so it's value 0.0 (there are 176 of them).\n",
    "Option 2 of changing values: using np.where."
   ]
  },
  {
   "cell_type": "code",
   "execution_count": 293,
   "metadata": {},
   "outputs": [
    {
     "data": {
      "text/plain": [
       "0.0    180\n",
       "1.0     65\n",
       "2.0     38\n",
       "3.0     20\n",
       "Name: ca, dtype: int64"
      ]
     },
     "execution_count": 293,
     "metadata": {},
     "output_type": "execute_result"
    }
   ],
   "source": [
    "df.ca = np.where(df.ca==\"?\", \"0.0\", df.ca)\n",
    "df.ca.value_counts()"
   ]
  },
  {
   "cell_type": "markdown",
   "metadata": {},
   "source": [
    "Recoding of categorical data in columns 'cp' 'restecg' 'slope' 'thal'"
   ]
  },
  {
   "cell_type": "code",
   "execution_count": 295,
   "metadata": {},
   "outputs": [
    {
     "name": "stdout",
     "output_type": "stream",
     "text": [
      "['cp' 'restecg' 'slope' 'thal']\n",
      "Index(['age', 'sex', 'trestbps', 'chol', 'fbs', 'thalach', 'exang', 'oldpeak',\n",
      "       'ca', 'diagnose', 'cp_1.0', 'cp_2.0', 'cp_3.0', 'cp_4.0', 'restecg_0.0',\n",
      "       'restecg_1.0', 'restecg_2.0', 'slope_1.0', 'slope_2.0', 'slope_3.0',\n",
      "       'thal_3.0', 'thal_6.0', 'thal_7.0'],\n",
      "      dtype='object')\n"
     ]
    }
   ],
   "source": [
    "oneHotKeys = np.array(['cp', 'restecg', 'slope', 'thal'])\n",
    "\n",
    "# Make new columns with only 0 and 1 and drop the original ones\n",
    "for key in oneHotKeys:\n",
    "    df = pd.concat([df,pd.get_dummies(df[key], prefix=key)], axis=1)\n",
    "    df = df.drop(columns=key)\n",
    "print(df.columns)"
   ]
  },
  {
   "cell_type": "markdown",
   "metadata": {},
   "source": [
    "Change the types of the columns with values 0 and 1 to categorical and ca-column from object to float."
   ]
  },
  {
   "cell_type": "code",
   "execution_count": 296,
   "metadata": {},
   "outputs": [],
   "source": [
    "cat_columns = (['sex', 'fbs', 'exang', \n",
    "        'diagnose', 'cp_1.0', 'cp_2.0', 'cp_3.0', 'cp_4.0', 'restecg_0.0',\n",
    "       'restecg_1.0', 'restecg_2.0', 'slope_1.0', 'slope_2.0', 'slope_3.0',\n",
    "       'thal_3.0', 'thal_6.0', 'thal_7.0'])\n",
    "for column in cat_columns:\n",
    "    df[column] = df[column].astype(pd.api.types.CategoricalDtype(ordered=False))\n",
    "\n",
    "df.ca = df.ca.astype(float)"
   ]
  },
  {
   "cell_type": "markdown",
   "metadata": {},
   "source": [
    "Final check of the datatypes"
   ]
  },
  {
   "cell_type": "code",
   "execution_count": 297,
   "metadata": {},
   "outputs": [
    {
     "data": {
      "text/plain": [
       "age             float64\n",
       "sex            category\n",
       "trestbps        float64\n",
       "chol            float64\n",
       "fbs            category\n",
       "thalach         float64\n",
       "exang          category\n",
       "oldpeak         float64\n",
       "ca              float64\n",
       "diagnose       category\n",
       "cp_1.0         category\n",
       "cp_2.0         category\n",
       "cp_3.0         category\n",
       "cp_4.0         category\n",
       "restecg_0.0    category\n",
       "restecg_1.0    category\n",
       "restecg_2.0    category\n",
       "slope_1.0      category\n",
       "slope_2.0      category\n",
       "slope_3.0      category\n",
       "thal_3.0       category\n",
       "thal_6.0       category\n",
       "thal_7.0       category\n",
       "dtype: object"
      ]
     },
     "execution_count": 297,
     "metadata": {},
     "output_type": "execute_result"
    }
   ],
   "source": [
    "df.dtypes"
   ]
  },
  {
   "cell_type": "markdown",
   "metadata": {},
   "source": [
    "Split the dataset into training and test and separate the features and the labels."
   ]
  },
  {
   "cell_type": "code",
   "execution_count": 231,
   "metadata": {},
   "outputs": [],
   "source": [
    "train_dataset = df.sample(frac=0.8, random_state=0)\n",
    "test_dataset = df.drop(train_dataset.index)\n",
    "# Separate the features and labels\n",
    "train_features = train_dataset.copy()\n",
    "test_features = test_dataset.copy()\n",
    "# pop takes the lables \n",
    "train_labels = train_features.pop('diagnose')\n",
    "test_labels = test_features.pop('diagnose')"
   ]
  },
  {
   "cell_type": "markdown",
   "metadata": {},
   "source": [
    "Normilize the features"
   ]
  },
  {
   "cell_type": "code",
   "execution_count": 299,
   "metadata": {},
   "outputs": [],
   "source": [
    "normalizer = preprocessing.Normalization()\n",
    "normalizer.adapt(np.array(train_features))"
   ]
  },
  {
   "cell_type": "markdown",
   "metadata": {},
   "source": [
    "### Modelling"
   ]
  },
  {
   "cell_type": "markdown",
   "metadata": {},
   "source": [
    "Before the architecture was chosen, there were experiments with the number of hidden layers (1-3), with using and not using the drop out and with the number of parameters.\n",
    "Here are some example of architectures and the values of loss and accuracy when using them:"
   ]
  },
  {
   "cell_type": "code",
   "execution_count": 447,
   "metadata": {},
   "outputs": [
    {
     "data": {
      "text/html": [
       "<div>\n",
       "<style scoped>\n",
       "    .dataframe tbody tr th:only-of-type {\n",
       "        vertical-align: middle;\n",
       "    }\n",
       "\n",
       "    .dataframe tbody tr th {\n",
       "        vertical-align: top;\n",
       "    }\n",
       "\n",
       "    .dataframe thead th {\n",
       "        text-align: right;\n",
       "    }\n",
       "</style>\n",
       "<table border=\"1\" class=\"dataframe\">\n",
       "  <thead>\n",
       "    <tr style=\"text-align: right;\">\n",
       "      <th></th>\n",
       "      <th>num of hidden layers incl dropout</th>\n",
       "      <th>number of drop_out layers</th>\n",
       "      <th>num of params in hidden layers/drop_ot %</th>\n",
       "      <th>loss</th>\n",
       "      <th>val_loss</th>\n",
       "      <th>accuracy</th>\n",
       "      <th>val_accuracy</th>\n",
       "    </tr>\n",
       "  </thead>\n",
       "  <tbody>\n",
       "    <tr>\n",
       "      <th>1</th>\n",
       "      <td>1</td>\n",
       "      <td>0</td>\n",
       "      <td>9</td>\n",
       "      <td>0.0628</td>\n",
       "      <td>0.5059</td>\n",
       "      <td>0.9896</td>\n",
       "      <td>0.7347</td>\n",
       "    </tr>\n",
       "    <tr>\n",
       "      <th>2</th>\n",
       "      <td>2</td>\n",
       "      <td>0</td>\n",
       "      <td>9-5</td>\n",
       "      <td>0.0437</td>\n",
       "      <td>0.7815</td>\n",
       "      <td>0.9948</td>\n",
       "      <td>0.7959</td>\n",
       "    </tr>\n",
       "    <tr>\n",
       "      <th>3</th>\n",
       "      <td>3</td>\n",
       "      <td>0</td>\n",
       "      <td>15-10-5</td>\n",
       "      <td>0.0406</td>\n",
       "      <td>0.7845</td>\n",
       "      <td>0.9896</td>\n",
       "      <td>0.8163</td>\n",
       "    </tr>\n",
       "    <tr>\n",
       "      <th>4</th>\n",
       "      <td>2</td>\n",
       "      <td>0</td>\n",
       "      <td>10-3</td>\n",
       "      <td>0.0013</td>\n",
       "      <td>1.5481</td>\n",
       "      <td>1.0000</td>\n",
       "      <td>0.7755</td>\n",
       "    </tr>\n",
       "    <tr>\n",
       "      <th>5</th>\n",
       "      <td>5</td>\n",
       "      <td>3</td>\n",
       "      <td>0.2-10-0.2-3-0.2</td>\n",
       "      <td>0.2321</td>\n",
       "      <td>0.3855</td>\n",
       "      <td>0.9067</td>\n",
       "      <td>0.8571</td>\n",
       "    </tr>\n",
       "    <tr>\n",
       "      <th>6</th>\n",
       "      <td>3</td>\n",
       "      <td>2</td>\n",
       "      <td>0.2-9-0.2</td>\n",
       "      <td>0.2769</td>\n",
       "      <td>0.4385</td>\n",
       "      <td>0.8808</td>\n",
       "      <td>0.7755</td>\n",
       "    </tr>\n",
       "  </tbody>\n",
       "</table>\n",
       "</div>"
      ],
      "text/plain": [
       "   num of hidden layers incl dropout  number of drop_out layers  \\\n",
       "1                                  1                          0   \n",
       "2                                  2                          0   \n",
       "3                                  3                          0   \n",
       "4                                  2                          0   \n",
       "5                                  5                          3   \n",
       "6                                  3                          2   \n",
       "\n",
       "  num of params in hidden layers/drop_ot %    loss  val_loss  accuracy  \\\n",
       "1                                        9  0.0628    0.5059    0.9896   \n",
       "2                                      9-5  0.0437    0.7815    0.9948   \n",
       "3                                  15-10-5  0.0406    0.7845    0.9896   \n",
       "4                                     10-3  0.0013    1.5481    1.0000   \n",
       "5                         0.2-10-0.2-3-0.2  0.2321    0.3855    0.9067   \n",
       "6                                0.2-9-0.2  0.2769    0.4385    0.8808   \n",
       "\n",
       "   val_accuracy  \n",
       "1        0.7347  \n",
       "2        0.7959  \n",
       "3        0.8163  \n",
       "4        0.7755  \n",
       "5        0.8571  \n",
       "6        0.7755  "
      ]
     },
     "execution_count": 447,
     "metadata": {},
     "output_type": "execute_result"
    }
   ],
   "source": [
    "\n",
    "exp_data = {'1': [1, 0, '9',0.0628, 0.5059, 0.9896, 0.7347], \n",
    "            '2': [2, 0, '9-5',0.0437, 0.7815, 0.9948, 0.7959],\n",
    "           '3': [3, 0, '15-10-5',0.0406, 0.7845, 0.9896, 0.8163],\n",
    "           '4': [2, 0, '10-3',0.0013, 1.5481, 1.000, 0.7755],\n",
    "           '5': [5, 3, '0.2-10-0.2-3-0.2',0.2321, 0.3855, 0.9067, 0.8571],\n",
    "           '6': [3, 2, '0.2-9-0.2',0.2769, 0.4385, 0.8808, 0.7755]}\n",
    "pd.DataFrame.from_dict(exp_data, orient='index',columns=['num of hidden layers incl dropout', 'number of drop_out layers','num of params in hidden layers/drop_ot %', 'loss', 'val_loss', 'accuracy', 'val_accuracy'])"
   ]
  },
  {
   "cell_type": "markdown",
   "metadata": {},
   "source": [
    "The final model architecture is the following:\n",
    "\n",
    "1. the normalization layer (normalizer) \n",
    "2. Drop_out 0.2\n",
    "3. a Dense layer having 10 elements, activation function of 'relu'\n",
    "4. Drop_out 0.2\n",
    "5. a Dense layer having 3 elements and activation function of 'relu'\n",
    "6. Drop_out 0.2\n",
    "7. a Dense layer having 1 element\n",
    "\n",
    "Selected loss: BinaryCrossentropy, which is used when there are only two label classes for prediction (0/1) and computes the cross-entropy loss between true labels and predicted labels.\n",
    "\n",
    "Selected metrics: BinaryAccuracy, which calculates how often predictions match binary labels. There's also a confusion matrix of the model evaluation results.\n",
    "\n",
    "Selected optimizer : Adam, which is an optimization algorithm that can be used instead of the classical stochastic gradient descent procedure to update network weights iterative based in training data."
   ]
  },
  {
   "cell_type": "code",
   "execution_count": 444,
   "metadata": {},
   "outputs": [],
   "source": [
    "FEATURES = len(train_features.columns)"
   ]
  },
  {
   "cell_type": "code",
   "execution_count": 622,
   "metadata": {},
   "outputs": [
    {
     "name": "stdout",
     "output_type": "stream",
     "text": [
      "Model: \"sequential_66\"\n",
      "_________________________________________________________________\n",
      "Layer (type)                 Output Shape              Param #   \n",
      "=================================================================\n",
      "normalization_15 (Normalizat (None, 22)                45        \n",
      "_________________________________________________________________\n",
      "input (Dense)                (None, 22)                506       \n",
      "_________________________________________________________________\n",
      "dropout_88 (Dropout)         (None, 22)                0         \n",
      "_________________________________________________________________\n",
      "hidden1 (Dense)              (None, 10)                230       \n",
      "_________________________________________________________________\n",
      "dropout_89 (Dropout)         (None, 10)                0         \n",
      "_________________________________________________________________\n",
      "hidden2 (Dense)              (None, 3)                 33        \n",
      "_________________________________________________________________\n",
      "dropout_90 (Dropout)         (None, 3)                 0         \n",
      "_________________________________________________________________\n",
      "output (Dense)               (None, 1)                 4         \n",
      "=================================================================\n",
      "Total params: 818\n",
      "Trainable params: 773\n",
      "Non-trainable params: 45\n",
      "_________________________________________________________________\n"
     ]
    }
   ],
   "source": [
    "model = Sequential()\n",
    "model.add(normalizer),\n",
    "model.add(Dense(FEATURES, activation='relu', name = \"input\", input_shape=(train_dataset.shape[1],)))\n",
    "model.add(Dropout(0.2))\n",
    "model.add(Dense(10, activation = 'relu', name = \"hidden1\"))\n",
    "model.add(Dropout(0.2))\n",
    "model.add(Dense(3, activation = 'relu', name = \"hidden2\"))\n",
    "model.add(Dropout(0.2))\n",
    "model.add(Dense(1, activation = 'sigmoid', name = \"output\"))\n",
    "\n",
    "model.compile(loss=losses.BinaryCrossentropy(),\n",
    "              optimizer='adam',\n",
    "              metrics=tf.metrics.BinaryAccuracy())\n",
    "\n",
    "model.summary()"
   ]
  },
  {
   "cell_type": "code",
   "execution_count": 628,
   "metadata": {},
   "outputs": [
    {
     "data": {
      "image/png": "[encoded data removed]",
      "text/plain": [
       "<IPython.core.display.Image object>"
      ]
     },
     "execution_count": 628,
     "metadata": {},
     "output_type": "execute_result"
    }
   ],
   "source": [
    "plot_model(model, show_shapes = False, show_layer_names = True, rankdir = 'LR') "
   ]
  },
  {
   "cell_type": "markdown",
   "metadata": {},
   "source": [
    "### Training"
   ]
  },
  {
   "cell_type": "markdown",
   "metadata": {},
   "source": [
    "Here are some of the tested values of epochs number and batch size:"
   ]
  },
  {
   "cell_type": "code",
   "execution_count": null,
   "metadata": {},
   "outputs": [],
   "source": [
    "exp_data = {'1': [50, 5, 0.2007,0.9585,0.7220,0.7755], \n",
    "            '2': [20, 5, 0.2007,0.9275,0.6256,0.7755],\n",
    "           '3': [50, 3, 0.2338,0.8964,0.5083, 0.7959],\n",
    "           '4': [10, 3, 0.3283,0.8290,0.4063,0.8163],\n",
    "           '5': [10, 10, 0.3987,0.7876,0.3804, 0.8367],\n",
    "           '6': [30, 3,0.4075,0.8083,0.3585,0.8367],\n",
    "           '7': [30, 10,0.3568,0.8290,0.3595,0.8571]}\n",
    "pd.DataFrame.from_dict(exp_data, orient='index',columns=['num of epochs', 'batch_size', 'loss',  'accuracy', 'val_loss', 'val_accuracy'])"
   ]
  },
  {
   "cell_type": "markdown",
   "metadata": {},
   "source": [
    "For the final training 25 epochs and batch size 10 were used:"
   ]
  },
  {
   "cell_type": "code",
   "execution_count": 623,
   "metadata": {},
   "outputs": [
    {
     "name": "stdout",
     "output_type": "stream",
     "text": [
      "Wall time: 3.86 s\n"
     ]
    }
   ],
   "source": [
    "%%time\n",
    "h = model.fit(train_features, train_labels,\n",
    "                   epochs = 25,\n",
    "                   verbose = 0,\n",
    "                   batch_size=10,\n",
    "                   validation_split = 0.2)"
   ]
  },
  {
   "cell_type": "markdown",
   "metadata": {},
   "source": [
    "### Evaluation and perfomance"
   ]
  },
  {
   "cell_type": "code",
   "execution_count": 603,
   "metadata": {},
   "outputs": [
    {
     "data": {
      "text/plain": [
       "dict_keys(['loss', 'binary_accuracy', 'val_loss', 'val_binary_accuracy'])"
      ]
     },
     "execution_count": 603,
     "metadata": {},
     "output_type": "execute_result"
    }
   ],
   "source": [
    "h_dict = h.history\n",
    "h_dict.keys()"
   ]
  },
  {
   "cell_type": "markdown",
   "metadata": {},
   "source": [
    "#### Plot the training and validation loss"
   ]
  },
  {
   "cell_type": "code",
   "execution_count": 604,
   "metadata": {},
   "outputs": [],
   "source": [
    "def plot_loss(h):\n",
    "    \n",
    "    plt.plot(h.history['loss'], label='train')\n",
    "    plt.plot(h.history['val_loss'], label='validation')\n",
    "    plt.title('Training loss')\n",
    "    plt.xlabel('Epoch')\n",
    "    plt.ylabel('Error')\n",
    "    plt.legend()\n",
    "    plt.grid(True)"
   ]
  },
  {
   "cell_type": "code",
   "execution_count": 624,
   "metadata": {},
   "outputs": [
    {
     "data": {
      "image/png": "[encoded data removed]",
      "text/plain": [
       "<Figure size 432x288 with 1 Axes>"
      ]
     },
     "metadata": {
      "needs_background": "light"
     },
     "output_type": "display_data"
    }
   ],
   "source": [
    "plot_loss(h)\n",
    "plt.ylim(-0.05, 0.75);"
   ]
  },
  {
   "cell_type": "markdown",
   "metadata": {},
   "source": [
    "The loss is going down all time, maybe it could be better to use a bigger amount of epochs. "
   ]
  },
  {
   "cell_type": "markdown",
   "metadata": {},
   "source": [
    "#### Plot the training and validation accuracy"
   ]
  },
  {
   "cell_type": "code",
   "execution_count": 611,
   "metadata": {},
   "outputs": [],
   "source": [
    "def plot_accuracy(h):\n",
    "    \n",
    "    plt.plot(h.history['binary_accuracy'], label='train')\n",
    "    plt.plot(h.history['val_binary_accuracy'], label='validation')\n",
    "    plt.title('Training accuracy')\n",
    "    plt.xlabel('Epoch')\n",
    "    plt.ylabel('Accuracy')\n",
    "    plt.legend()\n",
    "    plt.grid(True)"
   ]
  },
  {
   "cell_type": "code",
   "execution_count": 625,
   "metadata": {},
   "outputs": [
    {
     "data": {
      "image/png": "[encoded data removed]",
      "text/plain": [
       "<Figure size 432x288 with 1 Axes>"
      ]
     },
     "metadata": {
      "needs_background": "light"
     },
     "output_type": "display_data"
    }
   ],
   "source": [
    "plot_accuracy(h)\n",
    "plt.ylim(0.5, 1.05);"
   ]
  },
  {
   "cell_type": "markdown",
   "metadata": {},
   "source": [
    "The accuracy is getting better, there are places, where it stays the same. there is a chance that this model stopped at a local maxmim and if there were more epochs, the result could be even better."
   ]
  },
  {
   "cell_type": "markdown",
   "metadata": {},
   "source": [
    "#### Evaluate the performance"
   ]
  },
  {
   "cell_type": "code",
   "execution_count": 626,
   "metadata": {},
   "outputs": [
    {
     "name": "stdout",
     "output_type": "stream",
     "text": [
      "Wall time: 197 ms\n"
     ]
    },
    {
     "data": {
      "text/plain": [
       "[0.33467453718185425, 0.8852459192276001]"
      ]
     },
     "execution_count": 626,
     "metadata": {},
     "output_type": "execute_result"
    }
   ],
   "source": [
    "%%time\n",
    "test_results = model.evaluate(test_features, test_labels, verbose=0)\n",
    "test_results"
   ]
  },
  {
   "cell_type": "code",
   "execution_count": 627,
   "metadata": {},
   "outputs": [
    {
     "name": "stdout",
     "output_type": "stream",
     "text": [
      "Test results (error):    0.335\n",
      "Test results (accuracy): 0.885\n"
     ]
    }
   ],
   "source": [
    "print(\"Test results (error):    {:.3f}\".format(test_results[0]))\n",
    "print(\"Test results (accuracy): {:.3f}\".format(test_results[1]))"
   ]
  },
  {
   "cell_type": "markdown",
   "metadata": {},
   "source": [
    "Display the confusion matrix"
   ]
  },
  {
   "cell_type": "code",
   "execution_count": 631,
   "metadata": {},
   "outputs": [
    {
     "data": {
      "text/plain": [
       "array([[31,  3],\n",
       "       [ 4, 23]], dtype=int64)"
      ]
     },
     "execution_count": 631,
     "metadata": {},
     "output_type": "execute_result"
    }
   ],
   "source": [
    "from sklearn.metrics import confusion_matrix\n",
    "predictions = (model.predict(test_features) >0.5)\n",
    "confusion_matrix(test_labels, predictions)"
   ]
  },
  {
   "cell_type": "markdown",
   "metadata": {},
   "source": [
    "### Conclusions "
   ]
  },
  {
   "cell_type": "markdown",
   "metadata": {},
   "source": [
    "### The model\n",
    "The final model architecture is: \n",
    "1. the normalization layer (normalizer) \n",
    "2. Drop_out 0.2\n",
    "3. a Dense layer having 10 elements, activation function of 'relu'\n",
    "4. Drop_out 0.2\n",
    "5. a Dense layer having 3 elements and activation function of 'relu'\n",
    "6. Drop_out 0.2\n",
    "7. a Dense layer having 1 element\n",
    "\n",
    "It uses Adam-optimizer, BinaryCrossentropy loss and BinaryAccuracy metrics.<br>\n",
    "The amount of epochs is 25 and batch size is 10. <br>\n",
    "The accuracy with the test dataset is 0.885, which shows that using this model one can quite surely predict if a person has a heart disease or not from his/hers analyzes and tests results.  <br>\n",
    "\n",
    "### Observations\n",
    "* Most of my difficulties were connected to the dataset. Somehow I was still a bit confused with the types of the data needed for the model to work. \n",
    "* Deciding the amount of layers and the amount params in them is hard. I chose \"keep it simple\" way in the beginning but there are still 5 hidden layers in the final model. \n",
    "* It is always possible to improve a model, so this one could be optimized too if you try enough of different cominations: change the amount of params in layers, the amount of layers and the amount of epochs.\n",
    "* There some results from the late 80's of usage of the datasets for predicting in the file with the information about the dataset. The best one there is 81%. So at least my model works better than the models/algorithms built 30 years ago. "
   ]
  },
  {
   "cell_type": "code",
   "execution_count": null,
   "metadata": {},
   "outputs": [],
   "source": []
  }
 ],
 "metadata": {
  "kernelspec": {
   "display_name": "Python 3",
   "language": "python",
   "name": "python3"
  },
  "language_info": {
   "codemirror_mode": {
    "name": "ipython",
    "version": 3
   },
   "file_extension": ".py",
   "mimetype": "text/x-python",
   "name": "python",
   "nbconvert_exporter": "python",
   "pygments_lexer": "ipython3",
   "version": "3.8.5"
  }
 },
 "nbformat": 4,
 "nbformat_minor": 4
}
